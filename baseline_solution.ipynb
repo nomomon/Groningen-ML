{
 "cells": [
  {
   "cell_type": "markdown",
   "metadata": {},
   "source": [
    "<center><h1> Groningen Machine Learning Competition <h1></center>\n",
    "    \n",
    "<center><h1> Pandas Tutorial for Reading and Storing Data in CSV files <h2></center>"
   ]
  },
  {
   "cell_type": "markdown",
   "metadata": {},
   "source": [
    "# Introduction to Pandas and CSV files"
   ]
  },
  {
   "cell_type": "markdown",
   "metadata": {},
   "source": [
    "## What is Pandas?\n",
    "Pandas is a open source python library created to handle the manipulation and storage of large scale datasets\n",
    "\n",
    "## Advantages of using Pandas for Machine Learning\n",
    "- Pandas is optimized for handling large scale datasets\n",
    "- This optimization results in massive speedups when compared to other libraries like csv and pickle\n",
    "- Pandas contains several useful features for Machine Learning such as:\n",
    "    - Data cleansing\n",
    "    - Data inspection\n",
    "    - Statistical analysis\n",
    "    - Data normalization\n",
    "    - Loading and storing data\n",
    "\n",
    "## What is a CSV file?\n",
    "A CSV file is a text file which uses a comma to separate values. An example is provided below\n",
    "\n",
    "id,title,city,postalCode <br>\n",
    "0,West-Varkenoordseweg,Rotterdam,3974HN <br>\n",
    "3,Ruiterakker,Assen,9407BG <br>\n",
    "8,Brusselseweg,Maastricht,6217GX <br>\n",
    "10,Donkerslootstraat,Rotterdam,3074WL <br>\n",
    "12,Vorselenburgstraat,Alphen aan den Rijn,2405XJ <br>\n",
    "\n",
    "While the above data might be difficult for a human to read at a first glance, machines can parse these files quickly\n",
    "\n",
    "## Why do we use CSV files?\n",
    "- CSV files are plain text files which can easily be manipulated using any text editor\n",
    "- The usage of commas to separate values ensures that the file behaves the same on all computers. This is useful when compared to a TSV file which uses tabs to separate values. Since the length of a tab can vary between different machines, the data may be read in an unintended way\n",
    "- CSV files are compact and can save space when used for large datasets\n",
    "\n",
    "Now that we know what Pandas and CSV files are, we can get started with using them for our Machine Learning Purposes"
   ]
  },
  {
   "cell_type": "markdown",
   "metadata": {},
   "source": [
    "# Getting Started with Pandas\n",
    "## Installing Pandas\n",
    "To use Pandas, we need to first install it using pip."
   ]
  },
  {
   "cell_type": "code",
   "execution_count": null,
   "metadata": {
    "scrolled": false
   },
   "outputs": [],
   "source": [
    "# We use an ! before pip to run the command in the terminal instead of python\n",
    "# When using a computer locally, it is sufficient to execute the below line in the terminal\n",
    "!pip install pandas"
   ]
  },
  {
   "cell_type": "markdown",
   "metadata": {},
   "source": [
    "Once pandas is installed, we need to import it in our code to use it"
   ]
  },
  {
   "cell_type": "code",
   "execution_count": null,
   "metadata": {},
   "outputs": [],
   "source": [
    "import pandas as pd"
   ]
  },
  {
   "cell_type": "markdown",
   "metadata": {},
   "source": [
    "## Reading Data from a CSV file\n",
    "Now that Pandas has been imported to our program, we can use it to load data from a csv file. The function read_csv() can be used which takes the file path of the csv file as an argument."
   ]
  },
  {
   "cell_type": "code",
   "execution_count": null,
   "metadata": {},
   "outputs": [],
   "source": [
    "train = pd.read_csv(\"datasets/train.csv\")"
   ]
  },
  {
   "cell_type": "markdown",
   "metadata": {},
   "source": [
    "To verify that the dataset has been read properly, we can display its contents using head(). This function takes the number of rows we wish to display as input. We can also look at the dtypes attribute to check how Pandas interpreted the data in the columns."
   ]
  },
  {
   "cell_type": "code",
   "execution_count": null,
   "metadata": {
    "scrolled": false
   },
   "outputs": [],
   "source": [
    "train.head(8)"
   ]
  },
  {
   "cell_type": "code",
   "execution_count": null,
   "metadata": {
    "scrolled": true
   },
   "outputs": [],
   "source": [
    "train.dtypes"
   ]
  },
  {
   "cell_type": "markdown",
   "metadata": {},
   "source": [
    "Now that we have loaded our data into a pandas dataframe, we can feed the training data into our machine learning program and predict the outcome for each test case."
   ]
  },
  {
   "cell_type": "markdown",
   "metadata": {},
   "source": [
    "## Creating a submission file for the Competition\n",
    "Once the machine learning model is trained, we can feed it the testing data which does not contain goal states. To evaluate our model, we need to create a submission file and upload it to the judging software. The submission file is a csv file which consists of the IDs of the datapoints and their predicted goal state. An example of the submission file for the competition's dataset is given below. "
   ]
  },
  {
   "cell_type": "code",
   "execution_count": null,
   "metadata": {
    "scrolled": true
   },
   "outputs": [],
   "source": [
    "# For demonstration purposes, we will load the submission file from an existing csv\n",
    "# Normally, a submission dataframe would be generated when we feed the test data to the model\n",
    "submission = pd.read_csv(\"datasets/sample_submission.csv\")\n",
    "\n",
    "submission.head(8)"
   ]
  },
  {
   "cell_type": "markdown",
   "metadata": {},
   "source": [
    "Once the submission file is obtained, we can convert it into a csv file using the to_csv() function which takes the desired file name as an argument"
   ]
  },
  {
   "cell_type": "code",
   "execution_count": null,
   "metadata": {},
   "outputs": [],
   "source": [
    "submission.to_csv(\"submission.csv\")"
   ]
  },
  {
   "cell_type": "markdown",
   "metadata": {},
   "source": [
    "Now that we have the submission file in csv format, we can upload it to the judging software for evaluation"
   ]
  }
 ],
 "metadata": {
  "kernelspec": {
   "display_name": "Python 3",
   "language": "python",
   "name": "python3"
  },
  "language_info": {
   "codemirror_mode": {
    "name": "ipython",
    "version": 3
   },
   "file_extension": ".py",
   "mimetype": "text/x-python",
   "name": "python",
   "nbconvert_exporter": "python",
   "pygments_lexer": "ipython3",
   "version": "3.8.5"
  }
 },
 "nbformat": 4,
 "nbformat_minor": 4
}
